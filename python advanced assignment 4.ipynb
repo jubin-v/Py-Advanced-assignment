{
 "cells": [
  {
   "cell_type": "code",
   "execution_count": null,
   "id": "1e22d12e",
   "metadata": {},
   "outputs": [],
   "source": [
    "Q1. Which two operator overloading methods can you use in your classes to support iteration?\n",
    "\n"
   ]
  },
  {
   "cell_type": "code",
   "execution_count": null,
   "id": "b2914927",
   "metadata": {},
   "outputs": [],
   "source": [
    "1. Plus Operator Overloaded - This involves an extended interpretation of an operator more than its original purpose. The most frequent instance is the adding up operator ‘+’, where it can be used for the usual addition and also for combining two different strings. As mentioned on top, the plus symbol’s practice in dissimilar forms is the largest classic example of the operator level overloading process. Especially the ability of the binary operator to perform the process of concatenation on the pair of the string is especially special.\n",
    "2. Multiplication Operator Overloaded -Another similar example of a binary operator involved in the overloading process can be noticed in the usage of ‘ * ‘. This operator not only responsible for multiplying two given numbers but also has the capability to perform the repetition of strings and lists."
   ]
  },
  {
   "cell_type": "code",
   "execution_count": null,
   "id": "a7a47995",
   "metadata": {},
   "outputs": [],
   "source": [
    "Q2. In what contexts do the two operator overloading methods manage printing?\n"
   ]
  },
  {
   "cell_type": "code",
   "execution_count": null,
   "id": "5223e73d",
   "metadata": {},
   "outputs": [],
   "source": [
    "The str() built-in is used to cast an instance of a class to a str object, or more appropriately, to obtain a user-friendly string representation of the object which can be read by a normal user rather than the programmer. You can define the string format your object should be displayed in when passed to str() by defining the __str__() method in your class. Moreover, __str__() is the method that is used by Python when you call print() on your object."
   ]
  },
  {
   "cell_type": "code",
   "execution_count": null,
   "id": "f0594594",
   "metadata": {},
   "outputs": [],
   "source": [
    "\n",
    "Q3. In a class, how do you intercept slice operations?\n"
   ]
  },
  {
   "cell_type": "code",
   "execution_count": null,
   "id": "93935620",
   "metadata": {},
   "outputs": [],
   "source": [
    "The __getitem__ method is used for accessing list items, array elements, dictionary entries etc. slice is a constructor in Python that creates slice object to represent set of indices that the range(start, stop, step) specifies. __getitem__ method can be implement in a class, and the behavior of slicing can be defined inside it."
   ]
  },
  {
   "cell_type": "code",
   "execution_count": null,
   "id": "5a8a04d4",
   "metadata": {},
   "outputs": [],
   "source": [
    "\n",
    "Q4. In a class, how do you capture in-place addition?\n",
    "\n"
   ]
  },
  {
   "cell_type": "code",
   "execution_count": null,
   "id": "f3dfa9cd",
   "metadata": {},
   "outputs": [],
   "source": [
    "Python provides the operator x += y to add two objects in-place by calculating the sum x + y and assigning the result to the first operands variable name x . You can set up the in-place addition behavior for your own class by overriding the magic “dunder” method __iadd__(self, other) in your class definition."
   ]
  },
  {
   "cell_type": "code",
   "execution_count": null,
   "id": "ff364533",
   "metadata": {},
   "outputs": [],
   "source": [
    "Q5. When is it appropriate to use operator overloading?"
   ]
  },
  {
   "cell_type": "code",
   "execution_count": null,
   "id": "a7547ca1",
   "metadata": {},
   "outputs": [],
   "source": [
    "Operator overloading is mostly useful when you're making a new class that falls into an existing \"Abstract Base Class\" (ABC) -- indeed, many of the ABCs in standard library module collections rely on the presence of certain special methods (and special methods, one with names starting and ending with double underscores AKA \"dunders\", are exactly the way you perform operator overloading in Python). This provides good starting guidance."
   ]
  }
 ],
 "metadata": {
  "kernelspec": {
   "display_name": "Python 3 (ipykernel)",
   "language": "python",
   "name": "python3"
  },
  "language_info": {
   "codemirror_mode": {
    "name": "ipython",
    "version": 3
   },
   "file_extension": ".py",
   "mimetype": "text/x-python",
   "name": "python",
   "nbconvert_exporter": "python",
   "pygments_lexer": "ipython3",
   "version": "3.9.7"
  }
 },
 "nbformat": 4,
 "nbformat_minor": 5
}
