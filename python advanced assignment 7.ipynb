{
 "cells": [
  {
   "cell_type": "code",
   "execution_count": null,
   "id": "767c4497",
   "metadata": {},
   "outputs": [],
   "source": [
    "Q1. What is the purpose of the try statement?\n"
   ]
  },
  {
   "cell_type": "code",
   "execution_count": null,
   "id": "7f98051c",
   "metadata": {},
   "outputs": [],
   "source": [
    "A try statement includes keyword try, followed by a colon (:) and a suite of code in which exceptions may occur. It has one or more clauses.\n",
    "During the execution of the try statement, if no exceptions occurred then, the interpreter ignores the exception handlers for that specific try statement.\n",
    "\n",
    "In case, if any exception occurs in a try suite, the try suite expires and program control transfers to the matching except handler following the try suite."
   ]
  },
  {
   "cell_type": "code",
   "execution_count": null,
   "id": "8c9bd0ee",
   "metadata": {},
   "outputs": [],
   "source": [
    "\n",
    "Q2. What are the two most popular try statement variations?\n",
    "\n"
   ]
  },
  {
   "cell_type": "code",
   "execution_count": null,
   "id": "b27e1c31",
   "metadata": {},
   "outputs": [],
   "source": [
    "1.Try Except\n",
    "2.Try, Except, else and Finally "
   ]
  },
  {
   "cell_type": "code",
   "execution_count": null,
   "id": "b3065970",
   "metadata": {},
   "outputs": [],
   "source": [
    "Q3. What is the purpose of the raise statement?\n",
    "\n"
   ]
  },
  {
   "cell_type": "code",
   "execution_count": null,
   "id": "d8f0ea2b",
   "metadata": {},
   "outputs": [],
   "source": [
    "The raise statement specifies an argument which initializes the exception object. Here, a comma follows the exception name, and argument or tuple of the argument that follows the comma.\n",
    "Syntax:\n",
    "raise [Exception [, args [, traceback]]]\n",
    "\n",
    "In this syntax, the argument is optional, and at the time of execution, the exception argument value is always none."
   ]
  },
  {
   "cell_type": "code",
   "execution_count": null,
   "id": "1208ab50",
   "metadata": {},
   "outputs": [],
   "source": [
    "Q4. What does the assert statement do, and what other statement is it like?\n",
    "\n"
   ]
  },
  {
   "cell_type": "code",
   "execution_count": null,
   "id": "ef93dcb1",
   "metadata": {},
   "outputs": [],
   "source": [
    "The assert keyword is used when debugging code.\n",
    "\n",
    "An assert statement consists of the assert keyword, the expression or condition to test, and an optional message. The condition is supposed to always be true. If the assertion condition is true, then nothing happens, and your program continues its normal execution. On the other hand, if the condition becomes false, then assert halts the program by raising an AssertionError."
   ]
  },
  {
   "cell_type": "code",
   "execution_count": null,
   "id": "1551a8ae",
   "metadata": {},
   "outputs": [],
   "source": [
    "Q5. What is the purpose of the with/as argument, and what other statement is it like?"
   ]
  },
  {
   "cell_type": "code",
   "execution_count": null,
   "id": "01ffa5fc",
   "metadata": {},
   "outputs": [],
   "source": [
    "In Python, with statement is used in exception handling to make the code cleaner and much more readable. It simplifies the management of common resources like file streams. Observe the following code example on how the use of with statement makes code cleaner. \n"
   ]
  }
 ],
 "metadata": {
  "kernelspec": {
   "display_name": "Python 3 (ipykernel)",
   "language": "python",
   "name": "python3"
  },
  "language_info": {
   "codemirror_mode": {
    "name": "ipython",
    "version": 3
   },
   "file_extension": ".py",
   "mimetype": "text/x-python",
   "name": "python",
   "nbconvert_exporter": "python",
   "pygments_lexer": "ipython3",
   "version": "3.9.7"
  }
 },
 "nbformat": 4,
 "nbformat_minor": 5
}
