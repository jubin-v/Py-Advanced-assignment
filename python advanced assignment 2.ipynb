{
 "cells": [
  {
   "cell_type": "code",
   "execution_count": null,
   "id": "5c0b8de2",
   "metadata": {},
   "outputs": [],
   "source": [
    "Q1. What is the relationship between classes and modules?\n"
   ]
  },
  {
   "cell_type": "code",
   "execution_count": null,
   "id": "4d9ce2d5",
   "metadata": {},
   "outputs": [],
   "source": [
    "module in python is simply a way to organize the code, and it contains either python classes or just functions. If you need those classes or functions in your project, you just import them. For instance, the math module in python contains just a bunch of functions, and you just call those needed.\n",
    "Classes are blueprints that allow you to create instances with attributes and bound functionality. Classes support inheritance, metaclasses, and descriptors."
   ]
  },
  {
   "cell_type": "code",
   "execution_count": null,
   "id": "77063055",
   "metadata": {},
   "outputs": [],
   "source": [
    "\n",
    "Q2. How do you make instances and classes?\n",
    "\n"
   ]
  },
  {
   "cell_type": "code",
   "execution_count": null,
   "id": "80a2048e",
   "metadata": {},
   "outputs": [],
   "source": [
    "Class is the most fundamental piece of Python because it serves as the essence of object oriented programming.\n",
    "\n",
    "Everything in Python is an object such as integers, lists, dictionaries, functions and so on. Every object has a type and the object types are created using classes.\n",
    "\n",
    "Instance is an object that belongs to a class. For instance, list is a class in Python. When we create a list, we have an instance of the list class."
   ]
  },
  {
   "cell_type": "code",
   "execution_count": null,
   "id": "9e59f07d",
   "metadata": {},
   "outputs": [],
   "source": [
    "Q3. Where and how should be class attributes created?\n",
    "\n"
   ]
  },
  {
   "cell_type": "code",
   "execution_count": null,
   "id": "044498e2",
   "metadata": {},
   "outputs": [],
   "source": [
    "Class attributes are the variables defined directly in the class that are shared by all objects of the class.Defined directly inside a class.Shared across all objects.Accessed using class name as well as using object with dot notation, e.g. classname.class_attribute or object.class_attribute"
   ]
  },
  {
   "cell_type": "code",
   "execution_count": null,
   "id": "3ab14fed",
   "metadata": {},
   "outputs": [],
   "source": [
    "Q4. Where and how are instance attributes created?\n",
    "\n"
   ]
  },
  {
   "cell_type": "code",
   "execution_count": null,
   "id": "4394e8ed",
   "metadata": {},
   "outputs": [],
   "source": [
    "Instance attributes are attributes or properties attached to an instance of a class. Instance attributes are defined in the constructor.Defined inside a constructor using the self parameter.Accessed using object dot notation e.g. object.instance_attribute"
   ]
  },
  {
   "cell_type": "code",
   "execution_count": null,
   "id": "e47d5093",
   "metadata": {},
   "outputs": [],
   "source": [
    "Q5. What does the term self in a Python class mean?\n",
    "\n"
   ]
  },
  {
   "cell_type": "code",
   "execution_count": null,
   "id": "cb250f81",
   "metadata": {},
   "outputs": [],
   "source": [
    "The self parameter is a reference to the current instance of the class, and is used to access variables that belongs to the class."
   ]
  },
  {
   "cell_type": "code",
   "execution_count": null,
   "id": "6809078a",
   "metadata": {},
   "outputs": [],
   "source": [
    "Q6. How does a Python class handle operator overloading?\n"
   ]
  },
  {
   "cell_type": "code",
   "execution_count": null,
   "id": "3b2c712c",
   "metadata": {},
   "outputs": [],
   "source": [
    "The operator overloading in Python means provide extended meaning beyond their predefined operational meaning. Such as, we use the \"+\" operator for adding two integers as well as joining two strings or merging two lists. We can achieve this as the \"+\" operator is overloaded by the \"int\" class and \"str\" class. The user can notice that the same inbuilt operator or function is showing different behaviour for objects of different classes. This process is known as operator overloading."
   ]
  },
  {
   "cell_type": "code",
   "execution_count": null,
   "id": "bb636934",
   "metadata": {},
   "outputs": [],
   "source": [
    "\n",
    "Q7. When do you consider allowing operator overloading of your classes?\n"
   ]
  },
  {
   "cell_type": "code",
   "execution_count": null,
   "id": "6cf5d3a4",
   "metadata": {},
   "outputs": [],
   "source": [
    "When the user uses the operator on the user-defined data types of class, then a magic function that is associated with the operator will be invoked automatically. The process of changing the behaviour of the operator is as simple as the behaviour of the function or method defined.\n",
    "\n",
    "The user define methods or functions in the class and the operator works according to that behaviour defined in the functions. When the user uses the \"+\" operator, it will change the code of a magic function, and the user has an extra meaning of the \"+\" operator."
   ]
  },
  {
   "cell_type": "code",
   "execution_count": null,
   "id": "37a908b8",
   "metadata": {},
   "outputs": [],
   "source": [
    "\n",
    "Q8. What is the most popular form of operator overloading?\n"
   ]
  },
  {
   "cell_type": "code",
   "execution_count": null,
   "id": "22b5906b",
   "metadata": {},
   "outputs": [],
   "source": [
    "A very popular and convenient example is the Addition (+) operator. Just think how the '+' operator operates on two numbers and the same operator operates on two strings. It performs “Addition” on numbers whereas it performs “Concatenation” on strings."
   ]
  },
  {
   "cell_type": "code",
   "execution_count": null,
   "id": "037d0d1f",
   "metadata": {},
   "outputs": [],
   "source": [
    "\n",
    "Q9. What are the two most important concepts to grasp in order to comprehend Python OOP code?"
   ]
  },
  {
   "cell_type": "code",
   "execution_count": null,
   "id": "427460a6",
   "metadata": {},
   "outputs": [],
   "source": [
    "two key concepts of OOP are inheritance and polymorphism. Both inheritance and polymorphism are key ingredients for designing robust, flexible, and easy-to-maintain software.\n",
    "Inheritance is the capability of one class to derive or inherit the properties from another class. The class that derives properties is called the derived class or child class and the class from which the properties are being derived is called the base class or parent class. \n",
    "Polymorphism simply means having many forms. For example, we need to determine if the given species of birds fly or not, using polymorphism we can do this using a single function"
   ]
  }
 ],
 "metadata": {
  "kernelspec": {
   "display_name": "Python 3 (ipykernel)",
   "language": "python",
   "name": "python3"
  },
  "language_info": {
   "codemirror_mode": {
    "name": "ipython",
    "version": 3
   },
   "file_extension": ".py",
   "mimetype": "text/x-python",
   "name": "python",
   "nbconvert_exporter": "python",
   "pygments_lexer": "ipython3",
   "version": "3.9.7"
  }
 },
 "nbformat": 4,
 "nbformat_minor": 5
}
