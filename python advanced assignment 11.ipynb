{
 "cells": [
  {
   "cell_type": "code",
   "execution_count": null,
   "id": "24dabad1",
   "metadata": {},
   "outputs": [],
   "source": [
    "Q1. What is the concept of a metaclass?\n",
    "\n"
   ]
  },
  {
   "cell_type": "code",
   "execution_count": null,
   "id": "99bc8e72",
   "metadata": {},
   "outputs": [],
   "source": [
    "A metaclass in Python is a class of a class that defines how a class behaves. A class is itself an instance of a metaclass. A class in Python defines how the instance of the class will behave. In order to understand metaclasses well, one needs to have prior experience working with Python classes."
   ]
  },
  {
   "cell_type": "code",
   "execution_count": null,
   "id": "bdbe7c2c",
   "metadata": {},
   "outputs": [],
   "source": [
    "Q2. What is the best way to declare a class's metaclass?\n",
    "\n"
   ]
  },
  {
   "cell_type": "code",
   "execution_count": null,
   "id": "21c4493e",
   "metadata": {},
   "outputs": [],
   "source": [
    "metaclasses are what create these objects. They are the classes' classes, you can picture them this way:\n",
    "\n",
    "MyClass = MetaClass()\n",
    "my_object = MyClass("
   ]
  },
  {
   "cell_type": "code",
   "execution_count": null,
   "id": "fdcbd00a",
   "metadata": {},
   "outputs": [],
   "source": [
    "Q3. How do class decorators overlap with metaclasses for handling classes?\n",
    "\n"
   ]
  },
  {
   "cell_type": "code",
   "execution_count": null,
   "id": "4e0d596c",
   "metadata": {},
   "outputs": [],
   "source": [
    "\n",
    "\n",
    "Decorators are much, much simpler and more limited -- and therefore should be preferred whenever the desired effect can be achieved with either a metaclass or a class decorator.\n",
    "\n",
    "Anything you can do with a class decorator, you can of course do with a custom metaclass (just apply the functionality of the \"decorator function\", i.e., the one that takes a class object and modifies it, in the course of the metaclass's __new__ or __init__ that make the class object!-).\n",
    "\n",
    "There are many things you can do in a custom metaclass but not in a decorator (unless the decorator internally generates and applies a custom metaclass, of course -- but that's cheating;-)... and even then, in Python 3, there are things you can only do with a custom metaclass, not after the fact... but that's a pretty advanced sub-niche of your question, so let me give simpler examples"
   ]
  },
  {
   "cell_type": "code",
   "execution_count": null,
   "id": "e228bdf5",
   "metadata": {},
   "outputs": [],
   "source": [
    "Q4. How do class decorators overlap with metaclasses for handling instances?"
   ]
  },
  {
   "cell_type": "code",
   "execution_count": null,
   "id": "1c01af93",
   "metadata": {},
   "outputs": [],
   "source": [
    "The method decorator marks the method as one that is of interest by adding a \"use_class\" attribute - functions and methods are also objects, so you can attach additional metadata to them.\n",
    "\n",
    "After the class has been created the class decorator then goes through all the methods and does whatever is needed on the methods that have been marked."
   ]
  },
  {
   "cell_type": "code",
   "execution_count": null,
   "id": "b686ead7",
   "metadata": {},
   "outputs": [],
   "source": []
  },
  {
   "cell_type": "code",
   "execution_count": null,
   "id": "afeb4bbc",
   "metadata": {},
   "outputs": [],
   "source": []
  }
 ],
 "metadata": {
  "kernelspec": {
   "display_name": "Python 3 (ipykernel)",
   "language": "python",
   "name": "python3"
  },
  "language_info": {
   "codemirror_mode": {
    "name": "ipython",
    "version": 3
   },
   "file_extension": ".py",
   "mimetype": "text/x-python",
   "name": "python",
   "nbconvert_exporter": "python",
   "pygments_lexer": "ipython3",
   "version": "3.9.7"
  }
 },
 "nbformat": 4,
 "nbformat_minor": 5
}
