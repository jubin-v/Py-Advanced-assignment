{
 "cells": [
  {
   "cell_type": "code",
   "execution_count": null,
   "id": "cc53f505",
   "metadata": {},
   "outputs": [],
   "source": [
    "1. What is the concept of an abstract superclass?\n",
    "\n"
   ]
  },
  {
   "cell_type": "code",
   "execution_count": null,
   "id": "f19fe307",
   "metadata": {},
   "outputs": [],
   "source": [
    "An abstract class is a class, but not one you can create objects from directly. Its purpose is to define how other classes should look like, i.e. what methods and properties they are expected to have.\n",
    "\n",
    "The methods and properties defined (but not implemented) in an abstract class are called abstract methods and abstract properties. All abstract methods and properties need to be implemented in a child class in order to be able to create objects from it."
   ]
  },
  {
   "cell_type": "code",
   "execution_count": null,
   "id": "e35146c8",
   "metadata": {},
   "outputs": [],
   "source": [
    "2. What happens when a class statement's top level contains a basic assignment statement?\n",
    "\n"
   ]
  },
  {
   "cell_type": "code",
   "execution_count": null,
   "id": "40633aff",
   "metadata": {},
   "outputs": [],
   "source": [
    "these top level assignment will be excuted sequentially on calling upon class"
   ]
  },
  {
   "cell_type": "code",
   "execution_count": null,
   "id": "697942d5",
   "metadata": {},
   "outputs": [],
   "source": [
    "3. Why does a class need to manually call a superclass's __init__ method?\n",
    "\n"
   ]
  },
  {
   "cell_type": "code",
   "execution_count": null,
   "id": "0b24cc67",
   "metadata": {},
   "outputs": [],
   "source": [
    "Yes, you should always call base class __init__ explicitly as a good coding practice. Forgetting to do this can cause subtle issues or run time errors. This is true even if __init__ doesn't take any parameters. This is unlike other languages where compiler would implicitly call base class constructor for you. Python doesn't do that!\n",
    "\n",
    "The main reason for always calling base class _init__ is that base class may typically create member variable and initialize them to defaults. So if you don't call base class init, none of that code would be executed and you would end up with base class that has no member variables."
   ]
  },
  {
   "cell_type": "code",
   "execution_count": null,
   "id": "af8dce85",
   "metadata": {},
   "outputs": [],
   "source": [
    "4. How can you augment, instead of completely replacing, an inherited method?\n",
    "\n"
   ]
  },
  {
   "cell_type": "code",
   "execution_count": null,
   "id": "841aa8fb",
   "metadata": {},
   "outputs": [],
   "source": [
    "instead of replacing, updating the inherited methods can be done"
   ]
  },
  {
   "cell_type": "code",
   "execution_count": null,
   "id": "a1d19d68",
   "metadata": {},
   "outputs": [],
   "source": [
    "5. How is the local scope of a class different from that of a function?"
   ]
  },
  {
   "cell_type": "code",
   "execution_count": null,
   "id": "83efd805",
   "metadata": {},
   "outputs": [],
   "source": [
    "local scope cannot be accessed from outside of class. local scope of a class will be available for class methods and fuctions only"
   ]
  }
 ],
 "metadata": {
  "kernelspec": {
   "display_name": "Python 3 (ipykernel)",
   "language": "python",
   "name": "python3"
  },
  "language_info": {
   "codemirror_mode": {
    "name": "ipython",
    "version": 3
   },
   "file_extension": ".py",
   "mimetype": "text/x-python",
   "name": "python",
   "nbconvert_exporter": "python",
   "pygments_lexer": "ipython3",
   "version": "3.9.7"
  }
 },
 "nbformat": 4,
 "nbformat_minor": 5
}
