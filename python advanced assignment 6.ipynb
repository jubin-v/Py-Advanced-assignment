{
 "cells": [
  {
   "cell_type": "code",
   "execution_count": null,
   "id": "150a5767",
   "metadata": {},
   "outputs": [],
   "source": [
    "Q1. Describe three applications for exception processing.\n",
    "\n"
   ]
  },
  {
   "cell_type": "code",
   "execution_count": null,
   "id": "26109325",
   "metadata": {},
   "outputs": [],
   "source": [
    "Exception handling allows you to separate error-handling code from normal code.\n",
    "An exception is a Python object which represents an error.\n",
    "As with code comments, exceptions helps you to remind yourself of what the program expects.\n",
    "It clarifies the code and enhances readability.\n",
    "Allows you to stimulate consequences as the error-handling takes place at one place and in one manner.\n",
    "An exception is a convenient method for handling error messages.\n",
    "In Python, you can raise an exception in the program by using the raise exception method.\n",
    "Raising an exception helps you to break the current code execution and returns the exception back to expection until it is handled.\n",
    "Processing exceptions for components which can’t handle them directly."
   ]
  },
  {
   "cell_type": "code",
   "execution_count": null,
   "id": "6c402c9e",
   "metadata": {},
   "outputs": [],
   "source": [
    "Q2. What happens if you don't do something extra to treat an exception?\n",
    "\n"
   ]
  },
  {
   "cell_type": "code",
   "execution_count": null,
   "id": "995d1fed",
   "metadata": {},
   "outputs": [],
   "source": [
    "An exception is an error which happens at the time of execution of a program. However, while running a program, Python generates an exception that should be handled to avoid your program to crash. In Python language, exceptions trigger automatically on errors, or they can be triggered and intercepted by your code.\n",
    "\n",
    "The exception indicates that, although the event can occur, this type of event happens infrequently. When the method is not able to handle the exception, it is thrown to its caller function. Eventually, when an exception is thrown out of the main function, the program is terminated abruptly."
   ]
  },
  {
   "cell_type": "code",
   "execution_count": null,
   "id": "d8b52b1c",
   "metadata": {},
   "outputs": [],
   "source": [
    "Q3. What are your options for recovering from an exception in your script?\n"
   ]
  },
  {
   "cell_type": "code",
   "execution_count": null,
   "id": "f1a813b1",
   "metadata": {},
   "outputs": [],
   "source": [
    "try statement can be employed on suspected code"
   ]
  },
  {
   "cell_type": "code",
   "execution_count": null,
   "id": "15ef960e",
   "metadata": {},
   "outputs": [],
   "source": [
    "\n",
    "Q4. Describe two methods for triggering exceptions in your script.\n",
    "\n"
   ]
  },
  {
   "cell_type": "code",
   "execution_count": null,
   "id": "0167c78a",
   "metadata": {},
   "outputs": [],
   "source": [
    "raise amd catch stements."
   ]
  },
  {
   "cell_type": "code",
   "execution_count": null,
   "id": "e0a28774",
   "metadata": {},
   "outputs": [],
   "source": [
    "Q5. Identify two methods for specifying actions to be executed at termination time, regardless of\n",
    "whether or not an exception exists."
   ]
  },
  {
   "cell_type": "code",
   "execution_count": null,
   "id": "13f43ea2",
   "metadata": {},
   "outputs": [],
   "source": [
    "Finally block always executes irrespective of an exception being thrown or not. The final keyword allows you to create a block of code that follows a try-catch block.\n",
    "\n",
    "Finally, clause is optional. It is intended to define clean-up actions which should be that executed in all conditions."
   ]
  },
  {
   "cell_type": "code",
   "execution_count": null,
   "id": "d37d0c22",
   "metadata": {},
   "outputs": [],
   "source": []
  }
 ],
 "metadata": {
  "kernelspec": {
   "display_name": "Python 3 (ipykernel)",
   "language": "python",
   "name": "python3"
  },
  "language_info": {
   "codemirror_mode": {
    "name": "ipython",
    "version": 3
   },
   "file_extension": ".py",
   "mimetype": "text/x-python",
   "name": "python",
   "nbconvert_exporter": "python",
   "pygments_lexer": "ipython3",
   "version": "3.9.7"
  }
 },
 "nbformat": 4,
 "nbformat_minor": 5
}
