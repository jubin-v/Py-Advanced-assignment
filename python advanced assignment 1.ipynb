{
 "cells": [
  {
   "cell_type": "code",
   "execution_count": null,
   "id": "1e0deb04",
   "metadata": {},
   "outputs": [],
   "source": [
    "Q1. What is the purpose of Python's OOP?\n"
   ]
  },
  {
   "cell_type": "code",
   "execution_count": null,
   "id": "cd153077",
   "metadata": {},
   "outputs": [],
   "source": [
    "n Python, object-oriented Programming (OOPs) is a programming paradigm that uses objects and classes in programming. It aims to implement real-world entities like inheritance, polymorphisms, encapsulation, etc. in the programming. The main concept of OOPs is to bind the data and the functions that work on that together as a single unit so that no other part of the code can access this data."
   ]
  },
  {
   "cell_type": "code",
   "execution_count": null,
   "id": "c39688e3",
   "metadata": {},
   "outputs": [],
   "source": [
    "Q2. Where does an inheritance search look for an attribute?\n",
    "\n"
   ]
  },
  {
   "cell_type": "code",
   "execution_count": null,
   "id": "6485bd1e",
   "metadata": {},
   "outputs": [],
   "source": [
    "An inheritance search looks for an attribute first in the instance object, then in the class the instance was created from, then in all higher superclasses, progressing from left to right (by default). The search stops at the first place the attribute is found."
   ]
  },
  {
   "cell_type": "code",
   "execution_count": null,
   "id": "4e78af51",
   "metadata": {},
   "outputs": [],
   "source": [
    "Q3. How do you distinguish between a class object and an instance object?\n"
   ]
  },
  {
   "cell_type": "code",
   "execution_count": null,
   "id": "63ecf6eb",
   "metadata": {},
   "outputs": [],
   "source": [
    "Classes are a kind of factory for creating multiple instances. Classes also support operator overloading methods, which instances inherit, and treat any functions nested in the class as methods for processing instances."
   ]
  },
  {
   "cell_type": "code",
   "execution_count": null,
   "id": "bbbfeaeb",
   "metadata": {},
   "outputs": [],
   "source": [
    "\n",
    "Q4. What makes the first argument in a class’s method function special?\n",
    "\n"
   ]
  },
  {
   "cell_type": "code",
   "execution_count": null,
   "id": "31916a08",
   "metadata": {},
   "outputs": [],
   "source": [
    "It always receives the instance object that is the implied subject of the method call. It’s usually called 'self' by convention."
   ]
  },
  {
   "cell_type": "code",
   "execution_count": null,
   "id": "43bd1eab",
   "metadata": {},
   "outputs": [],
   "source": [
    "Q5. What is the purpose of the __init__ method?\n",
    "\n"
   ]
  },
  {
   "cell_type": "code",
   "execution_count": null,
   "id": "5c2d8b34",
   "metadata": {},
   "outputs": [],
   "source": [
    "If the __init__ method is coded or inherited in a class, Python calls it automatically each time an instance of that class is created.\n",
    "class New():\n",
    "def __init__(self, arg1, arg2):\n",
    "self.first_var = arg1\n",
    "self.second_var = arg2"
   ]
  },
  {
   "cell_type": "code",
   "execution_count": null,
   "id": "bafe53bd",
   "metadata": {},
   "outputs": [],
   "source": [
    "Q6. What is the process for creating a class instance?\n"
   ]
  },
  {
   "cell_type": "code",
   "execution_count": null,
   "id": "4cdfa15f",
   "metadata": {},
   "outputs": [],
   "source": [
    "\n",
    "A\n",
    "You create a class instance by calling the class name as though it were a function; any arguments passed into the class name show up as arguments two and beyond in the __init__ constructor method.\n",
    "\n",
    "x = ClassName()\n",
    "y = AnotherClass(arg1, arg2)"
   ]
  },
  {
   "cell_type": "code",
   "execution_count": null,
   "id": "f1aff225",
   "metadata": {},
   "outputs": [],
   "source": [
    "\n",
    "Q7. What is the process for creating a class?\n"
   ]
  },
  {
   "cell_type": "code",
   "execution_count": null,
   "id": "8c08a343",
   "metadata": {},
   "outputs": [],
   "source": [
    "\n",
    "\n",
    "class ClassName():\n",
    "#some code here"
   ]
  },
  {
   "cell_type": "code",
   "execution_count": null,
   "id": "6e431392",
   "metadata": {},
   "outputs": [],
   "source": [
    "\n",
    "Q8. How would you define the superclasses of a class?"
   ]
  },
  {
   "cell_type": "code",
   "execution_count": null,
   "id": "8c0c94c5",
   "metadata": {},
   "outputs": [],
   "source": [
    "They are classes which are used to inherit from.\n",
    "\n",
    "class Son(Father, Mother): ...\n",
    "\n",
    "In this case Father and Mother are superclasses for Son subclass."
   ]
  },
  {
   "cell_type": "code",
   "execution_count": null,
   "id": "08588cb6",
   "metadata": {},
   "outputs": [],
   "source": []
  }
 ],
 "metadata": {
  "kernelspec": {
   "display_name": "Python 3 (ipykernel)",
   "language": "python",
   "name": "python3"
  },
  "language_info": {
   "codemirror_mode": {
    "name": "ipython",
    "version": 3
   },
   "file_extension": ".py",
   "mimetype": "text/x-python",
   "name": "python",
   "nbconvert_exporter": "python",
   "pygments_lexer": "ipython3",
   "version": "3.9.7"
  }
 },
 "nbformat": 4,
 "nbformat_minor": 5
}
