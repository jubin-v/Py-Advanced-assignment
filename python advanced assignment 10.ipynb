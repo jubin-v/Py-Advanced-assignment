{
 "cells": [
  {
   "cell_type": "code",
   "execution_count": null,
   "id": "628a23b0",
   "metadata": {},
   "outputs": [],
   "source": [
    "Q1. What is the difference between __getattr__ and __getattribute__?\n"
   ]
  },
  {
   "cell_type": "code",
   "execution_count": null,
   "id": "87289c35",
   "metadata": {},
   "outputs": [],
   "source": [
    "A key difference between __getattr__ and __getattribute__ is that __getattr__ is only invoked if the attribute wasn't found the usual ways. It's good for implementing a fallback for missing attributes, and is probably the one of two you want.\n",
    "\n",
    "__getattribute__ is invoked before looking at the actual attributes on the object, and so can be tricky to implement correctly. You can end up in infinite recursions very easily.\n",
    "\n",
    "New-style classes derive from object, old-style classes are those in Python 2.x with no explicit base class. But the distinction between old-style and new-style classes is not the important one when choosing between __getattr__ and __getattribute__."
   ]
  },
  {
   "cell_type": "code",
   "execution_count": null,
   "id": "80ea68f0",
   "metadata": {},
   "outputs": [],
   "source": [
    "\n",
    "Q2. What is the difference between properties and descriptors?\n",
    "\n"
   ]
  },
  {
   "cell_type": "code",
   "execution_count": null,
   "id": "772cc657",
   "metadata": {},
   "outputs": [],
   "source": [
    "descriptors are a low-level mechanism that lets you hook into an object's attributes being accessed. Properties are a high-level application of this; that is, properties are implemented using descriptors. Or, better yet, properties are descriptors that are already provided for you in the standard library.\n",
    "\n",
    "If you need a simple way to return a computed value from an attribute read, or to call a function on an attribute write, use the @property decorator. The descriptor API is more flexible, but less convenient, and arguably \"overkill\" and non-idiomatic in this situation. It's useful for more advanced use cases, like implementing bound methods, or static and class methods; when you need to know, for example, if the attribute was accessed through the type object, or an instance of the type."
   ]
  },
  {
   "cell_type": "code",
   "execution_count": null,
   "id": "7234e80a",
   "metadata": {},
   "outputs": [],
   "source": [
    "Q3. What are the key differences in functionality between __getattr__ and __getattribute__, as well as\n",
    "properties and descriptors?"
   ]
  },
  {
   "cell_type": "code",
   "execution_count": null,
   "id": "97aa91a4",
   "metadata": {},
   "outputs": [],
   "source": [
    "Properties. We can bind getter, setter (and deleter) functions with an attribute name, using the built-in property function. When we do this, each reference to an attribute looks like simple, direct access, but invokes the appropriate function of the object. For example, anObject.price= someValue; anObject.value.\n",
    "\n",
    "Descriptors. We can bind getter, setter (and deleter) functions into a separate class. We then assign an object of this class to the attribute name. When we do this, each reference to an attribute looks like simple, direct access, but invokes an appropriate function of the Descriptor object. For example, anObject.price= someValue; anObject.value"
   ]
  },
  {
   "cell_type": "code",
   "execution_count": null,
   "id": "c4b3b961",
   "metadata": {},
   "outputs": [],
   "source": [
    "you can also tell a class how to deal with attributes which it doesn't explicitly manage and do that via __getattr__ method.\n",
    "\n",
    "Python will call this method whenever you request an attribute that hasn't already been defined, so you can define what to do with it.\n",
    "If you need to catch every attribute regardless whether it exists or not, use __getattribute__ instead. The difference is that __getattr__ only gets called for attributes that don't actually exist. If you set an attribute directly, referencing that attribute will retrieve it without calling __getattr__."
   ]
  },
  {
   "cell_type": "code",
   "execution_count": null,
   "id": "9db143c0",
   "metadata": {},
   "outputs": [],
   "source": []
  }
 ],
 "metadata": {
  "kernelspec": {
   "display_name": "Python 3 (ipykernel)",
   "language": "python",
   "name": "python3"
  },
  "language_info": {
   "codemirror_mode": {
    "name": "ipython",
    "version": 3
   },
   "file_extension": ".py",
   "mimetype": "text/x-python",
   "name": "python",
   "nbconvert_exporter": "python",
   "pygments_lexer": "ipython3",
   "version": "3.9.7"
  }
 },
 "nbformat": 4,
 "nbformat_minor": 5
}
