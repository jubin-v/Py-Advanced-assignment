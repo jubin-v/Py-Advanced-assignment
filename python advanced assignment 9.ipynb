{
 "cells": [
  {
   "cell_type": "code",
   "execution_count": null,
   "id": "3d9045eb",
   "metadata": {},
   "outputs": [],
   "source": [
    "Q1. In Python 3.X, what are the names and functions of string object types?\n",
    "\n"
   ]
  },
  {
   "cell_type": "code",
   "execution_count": null,
   "id": "daadb983",
   "metadata": {},
   "outputs": [],
   "source": [
    "A sequence is an ordered collection of objects. Sequences maintain a left-to-right order among the items. Their items are stored and fetched by their relative position. Actually, strings are sequences of one-character strings. Other types of sequences include lists and tuples.\n",
    "\n",
    "As sequences, strings support operations that assume a positional ordering among items. We can verify its length with the built-in len function and fetch its components with indexing expressions:"
   ]
  },
  {
   "cell_type": "code",
   "execution_count": null,
   "id": "85d64f27",
   "metadata": {},
   "outputs": [],
   "source": [
    "Q2. How do the string forms in Python 3.X vary in terms of operations?\n",
    "\n"
   ]
  },
  {
   "cell_type": "code",
   "execution_count": null,
   "id": "292c7d77",
   "metadata": {},
   "outputs": [],
   "source": [
    "Strings implement all of the common sequence operations, along with the additional methods described below.\n",
    "\n",
    "Strings also support two styles of string formatting, one providing a large degree of flexibility and customization (see str.format(), Format String Syntax and Custom String Formatting) and the other based on C printf style formatting that handles a narrower range of types and is slightly harder to use correctly, but is often faster for the cases it can handle (printf-style String Formatting).\n",
    "\n",
    "The Text Processing Services section of the standard library covers a number of other modules that provide various text related utilities (including regular expression support in the re module)."
   ]
  },
  {
   "cell_type": "code",
   "execution_count": null,
   "id": "5e202fe3",
   "metadata": {},
   "outputs": [],
   "source": [
    "Q3. In 3.X, how do you put non-ASCII Unicode characters in a string?\n",
    "\n"
   ]
  },
  {
   "cell_type": "code",
   "execution_count": null,
   "id": "7d180b72",
   "metadata": {},
   "outputs": [],
   "source": [
    "Python allows Unicode string literals to be specified by adding a u character prefix before the string literal: This will create a Unicode string and the label will be appear correctly."
   ]
  },
  {
   "cell_type": "code",
   "execution_count": null,
   "id": "0d1e5236",
   "metadata": {},
   "outputs": [],
   "source": [
    "Q4. In Python 3.X, what are the key differences between text-mode and binary-mode files?\n"
   ]
  },
  {
   "cell_type": "code",
   "execution_count": null,
   "id": "106319bd",
   "metadata": {},
   "outputs": [],
   "source": [
    "A text file is the one in which data is stored in the form of ASCII characters and is normally used for storing a stream of characters. Text files are organized around lines, each of which ends with a newline character (‘\\n’). The source code files are themselves text files.\n",
    "\n",
    "A binary file is the one in which data is stored in the file in the same way as it is stored in the main memory for processing. It is stored in binary format instead of ASCII characters. It is normally used for storing numeric information (int, float, double). Normally a binary file can be created only from within a program and its contents can be read only by a program."
   ]
  },
  {
   "cell_type": "code",
   "execution_count": null,
   "id": "8a0b1f8f",
   "metadata": {},
   "outputs": [],
   "source": [
    "\n",
    "Q5. How can you interpret a Unicode text file containing text encoded in a different encoding than\n",
    "your platform's default?\n"
   ]
  },
  {
   "cell_type": "code",
   "execution_count": null,
   "id": "ea7830dd",
   "metadata": {},
   "outputs": [],
   "source": [
    "can change the encoding to desired."
   ]
  },
  {
   "cell_type": "code",
   "execution_count": null,
   "id": "e5c30669",
   "metadata": {},
   "outputs": [],
   "source": [
    "\n",
    "Q6. What is the best way to make a Unicode text file in a particular encoding format?\n",
    "\n"
   ]
  },
  {
   "cell_type": "code",
   "execution_count": null,
   "id": "80433df4",
   "metadata": {},
   "outputs": [],
   "source": [
    "In .encode() and .decode(), the encoding parameter is \"utf-8\" by default."
   ]
  },
  {
   "cell_type": "code",
   "execution_count": null,
   "id": "5ff140a0",
   "metadata": {},
   "outputs": [],
   "source": [
    "Q7. What qualifies ASCII text as a form of Unicode text?\n"
   ]
  },
  {
   "cell_type": "code",
   "execution_count": null,
   "id": "66b7f331",
   "metadata": {},
   "outputs": [],
   "source": [
    "ASCII and Unicode are two popular encoding schemes. ASCII encodes symbols, digits, letters, etc., whereas Unicode encodes special texts from different languages, letters, symbols, etc. It can be said that ASCII is a subset of the Unicode encoding scheme"
   ]
  },
  {
   "cell_type": "code",
   "execution_count": null,
   "id": "527c9f4d",
   "metadata": {},
   "outputs": [],
   "source": [
    "\n",
    "Q8. How much of an effect does the change in string types in Python 3.X have on your code?"
   ]
  },
  {
   "cell_type": "code",
   "execution_count": null,
   "id": "9c1868be",
   "metadata": {},
   "outputs": [],
   "source": [
    "Unless you assign the variable to be itself with a string method modifying it, then it will remain the same. Using a string method simply performs the action (upper, lower, etc.) and then moves on to the next line without changing the actual string stored in memory."
   ]
  }
 ],
 "metadata": {
  "kernelspec": {
   "display_name": "Python 3 (ipykernel)",
   "language": "python",
   "name": "python3"
  },
  "language_info": {
   "codemirror_mode": {
    "name": "ipython",
    "version": 3
   },
   "file_extension": ".py",
   "mimetype": "text/x-python",
   "name": "python",
   "nbconvert_exporter": "python",
   "pygments_lexer": "ipython3",
   "version": "3.9.7"
  }
 },
 "nbformat": 4,
 "nbformat_minor": 5
}
